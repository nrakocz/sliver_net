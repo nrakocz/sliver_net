{
 "cells": [
  {
   "cell_type": "markdown",
   "metadata": {},
   "source": [
    "# Init "
   ]
  },
  {
   "cell_type": "code",
   "execution_count": null,
   "metadata": {
    "ExecuteTime": {
     "end_time": "2020-01-23T22:28:04.276850Z",
     "start_time": "2020-01-23T22:28:03.933642Z"
    }
   },
   "outputs": [],
   "source": [
    "import pandas as pd"
   ]
  },
  {
   "cell_type": "code",
   "execution_count": null,
   "metadata": {
    "ExecuteTime": {
     "end_time": "2020-01-23T22:28:04.370561Z",
     "start_time": "2020-01-23T22:28:04.366262Z"
    }
   },
   "outputs": [],
   "source": [
    "def fullDisplay(df,max_rows=None,max_col=None,width=None):\n",
    "    df_cp = df.style.set_properties( **{'width': f'{width}px'}) if width is not None else df.copy() \n",
    "    with pd.option_context('display.max_rows', max_rows, 'display.max_columns', max_col,):\n",
    "        display(df_cp)"
   ]
  },
  {
   "cell_type": "code",
   "execution_count": null,
   "metadata": {
    "ExecuteTime": {
     "end_time": "2020-01-23T22:28:06.311316Z",
     "start_time": "2020-01-23T22:28:06.300014Z"
    }
   },
   "outputs": [],
   "source": [
    "from IPython.core.display import display, HTML\n",
    "display(HTML(\"<style>.container { width:80% !important; }</style>\"))"
   ]
  },
  {
   "cell_type": "code",
   "execution_count": null,
   "metadata": {
    "ExecuteTime": {
     "end_time": "2020-01-23T22:28:06.619032Z",
     "start_time": "2020-01-23T22:28:06.615281Z"
    }
   },
   "outputs": [],
   "source": [
    "def ndig_id(id):\n",
    "    try:\n",
    "        new_id = '_'.join([f'{int(i):04d}' for i in id.split('_')])\n",
    "    except:\n",
    "        new_id = 'ERROR'\n",
    "    \n",
    "    return new_id\n",
    "    "
   ]
  },
  {
   "cell_type": "markdown",
   "metadata": {},
   "source": [
    "# Create data-frame"
   ]
  },
  {
   "cell_type": "code",
   "execution_count": null,
   "metadata": {
    "ExecuteTime": {
     "end_time": "2020-01-23T22:30:29.579382Z",
     "start_time": "2020-01-23T22:30:29.441875Z"
    }
   },
   "outputs": [],
   "source": [
    "fname = './AMISH_12192019.csv'#'./AMISH_reduced.csv'  #'./AMISH_OCT.csv'\n",
    "amish_head = pd.read_csv(fname,nrows=2)\n",
    "\n",
    "col_desc = {amish_head.iloc[1,i]:col.replace('\\n',' ') for i, col in enumerate(amish_head.columns)}\n",
    "col_val_desc = {amish_head.iloc[1,i]:str(vals).replace('\\n',' ') for i, vals in enumerate(amish_head.iloc[0,:])}\n",
    "\n",
    "amish_df = pd.read_csv(fname,skiprows=2,parse_dates=['EXAM_DATE'],dtype={'INDIVIDUAL':str},skipfooter=1)\n",
    "amish_df['PAT_ID'] = amish_df.GROUP+'_'+amish_df.INDIVIDUAL\n",
    "amish_df['PAT_ID'] = amish_df.PAT_ID.apply(ndig_id)\n",
    "amish_df['CASE_ID'] = amish_df.PAT_ID +'_'+amish_df.EXAM_DATE.apply(lambda d: d.strftime(\"%m%d%Y\"))\n",
    "\n",
    "print(amish_df.shape)\n",
    "amish_df.head()"
   ]
  },
  {
   "cell_type": "code",
   "execution_count": null,
   "metadata": {},
   "outputs": [],
   "source": [
    "amish_df[]"
   ]
  },
  {
   "cell_type": "code",
   "execution_count": null,
   "metadata": {
    "ExecuteTime": {
     "end_time": "2020-01-23T22:30:48.131079Z",
     "start_time": "2020-01-23T22:30:48.127106Z"
    }
   },
   "outputs": [],
   "source": [
    "print(amish_df.columns.to_list())"
   ]
  },
  {
   "cell_type": "markdown",
   "metadata": {},
   "source": [
    "## add volume as a binary feature "
   ]
  },
  {
   "cell_type": "code",
   "execution_count": null,
   "metadata": {
    "ExecuteTime": {
     "end_time": "2020-01-23T22:31:37.906441Z",
     "start_time": "2020-01-23T22:31:37.898816Z"
    }
   },
   "outputs": [],
   "source": [
    "amish_df['CO_RPE_V3MM_OS'] = amish_df['CO_RPE_V3MM_OS'].replace('NE',-3).astype(np.float32)"
   ]
  },
  {
   "cell_type": "code",
   "execution_count": null,
   "metadata": {
    "ExecuteTime": {
     "end_time": "2020-01-23T22:31:38.712441Z",
     "start_time": "2020-01-23T22:31:38.707737Z"
    }
   },
   "outputs": [],
   "source": [
    "def binarizeNumerical(p,th,df):\n",
    "    df[f'{p}_L{th}_OD'] = (df[f'{p}_OD']>=th).values\n",
    "    df[f'{p}_L{th}_OD'][df[f'{p}_OD']<0]=np.nan\n",
    "\n",
    "    df[f'{p}_L{th}_OS'] = (df[f'{p}_OS']>=th).values\n",
    "    df[f'{p}_L{th}_OS'][df[f'{p}_OS']<0]=np.nan\n",
    "    \n"
   ]
  },
  {
   "cell_type": "code",
   "execution_count": null,
   "metadata": {
    "ExecuteTime": {
     "end_time": "2020-01-23T22:31:39.235700Z",
     "start_time": "2020-01-23T22:31:39.215857Z"
    }
   },
   "outputs": [],
   "source": [
    "th = 0.03 # <= 0.03mm^2\n",
    "p = 'CO_RPE_V3MM' # Drusen Volume\n",
    "\n",
    "binarizeNumerical(p,0.03,amish_df)"
   ]
  },
  {
   "cell_type": "code",
   "execution_count": null,
   "metadata": {
    "ExecuteTime": {
     "end_time": "2020-01-23T22:31:40.715324Z",
     "start_time": "2020-01-23T22:31:40.677620Z"
    }
   },
   "outputs": [],
   "source": [
    "hypo_df = pd.read_csv('AMISH_hypoDrusen.csv',nrows=None,dtype={'INDIVIDUAL':object},parse_dates=['EXAM_DATE'])\n",
    "hypo_df.drop(['STUDY','SUBSTUDY','EXAMINER'],axis=1,inplace=True)\n",
    "hypo_df"
   ]
  },
  {
   "cell_type": "code",
   "execution_count": null,
   "metadata": {
    "ExecuteTime": {
     "end_time": "2020-01-23T22:31:42.284083Z",
     "start_time": "2020-01-23T22:31:42.248882Z"
    }
   },
   "outputs": [],
   "source": [
    "amish_df"
   ]
  },
  {
   "cell_type": "code",
   "execution_count": null,
   "metadata": {
    "ExecuteTime": {
     "end_time": "2020-01-23T22:31:44.466195Z",
     "start_time": "2020-01-23T22:31:44.427244Z"
    }
   },
   "outputs": [],
   "source": [
    "amish_df_tmp = pd.merge(amish_df,hypo_df,on=['CENTER','GROUP','INDIVIDUAL','EXAM_DATE'],how='left')\n",
    "amish_df_tmp[['CO_Drusen_Core_OD','CO_Drusen_Core_OS']] = amish_df_tmp[['CO_Drusen_Core_OD','CO_Drusen_Core_OS']].fillna('N')"
   ]
  },
  {
   "cell_type": "code",
   "execution_count": null,
   "metadata": {
    "ExecuteTime": {
     "end_time": "2020-01-23T22:31:44.840058Z",
     "start_time": "2020-01-23T22:31:44.837362Z"
    }
   },
   "outputs": [],
   "source": [
    "amish_df = amish_df_tmp"
   ]
  },
  {
   "cell_type": "markdown",
   "metadata": {},
   "source": [
    "## external df "
   ]
  },
  {
   "cell_type": "code",
   "execution_count": null,
   "metadata": {
    "ExecuteTime": {
     "end_time": "2020-01-07T22:02:16.246760Z",
     "start_time": "2020-01-07T22:02:16.222102Z"
    }
   },
   "outputs": [],
   "source": [
    "amish_df.head(5)"
   ]
  },
  {
   "cell_type": "code",
   "execution_count": null,
   "metadata": {
    "ExecuteTime": {
     "end_time": "2020-01-29T18:42:53.584793Z",
     "start_time": "2020-01-29T18:42:53.581536Z"
    }
   },
   "outputs": [],
   "source": [
    "from pathlib import Path\n",
    "ext_path = Path('/opt/data/Jupyter_Notebook/NadavRakocz/Doheny/reproduce/')\n",
    "ext_files = [d for d in ext_path.iterdir() if 'csv' in d.name]\n",
    "ext_files"
   ]
  },
  {
   "cell_type": "code",
   "execution_count": null,
   "metadata": {
    "ExecuteTime": {
     "end_time": "2020-01-29T19:05:18.248781Z",
     "start_time": "2020-01-29T19:05:18.244392Z"
    }
   },
   "outputs": [],
   "source": [
    "f.stem"
   ]
  },
  {
   "cell_type": "code",
   "execution_count": null,
   "metadata": {
    "ExecuteTime": {
     "end_time": "2020-01-29T19:10:12.965517Z",
     "start_time": "2020-01-29T19:10:11.184674Z"
    }
   },
   "outputs": [],
   "source": [
    "ext_dfs = []\n",
    "for f in ext_files:\n",
    "    o_name = f'{f.stem}_ext.csv'\n",
    "    ext_amish_df = pd.read_csv(f,skiprows=2,parse_dates=['EXAM_DATE'],dtype={'INDIVIDUAL':str},skipfooter=1)\n",
    "    ext_amish_df['PAT_ID'] = ext_amish_df.ID\n",
    "    ext_amish_df['PAT_ID'] = ext_amish_df.PAT_ID.apply(ndig_id)\n",
    "    ext_amish_df['CASE_ID'] = ext_amish_df.PAT_ID +'_'+ext_amish_df.EXAM_DATE.apply(lambda d: d.strftime(\"%m%d%Y\"))\n",
    "    # binarizeNumerical('CO_RPE_V3MM',0.03,ext_amish_df)\n",
    "    ext_dfs.append(ext_amish_df)\n",
    "    "
   ]
  },
  {
   "cell_type": "code",
   "execution_count": null,
   "metadata": {
    "ExecuteTime": {
     "end_time": "2020-01-07T22:02:28.804572Z",
     "start_time": "2020-01-07T22:02:28.748661Z"
    },
    "scrolled": true
   },
   "outputs": [],
   "source": [
    "a=ext_amish_df[ext_amish_df['CENTER']=='UPEN']\n",
    "a.sort_values(by='EXAM_DATE')"
   ]
  },
  {
   "cell_type": "markdown",
   "metadata": {},
   "source": [
    "## Exclude bad images "
   ]
  },
  {
   "cell_type": "code",
   "execution_count": null,
   "metadata": {
    "ExecuteTime": {
     "end_time": "2020-01-29T19:10:34.549371Z",
     "start_time": "2020-01-29T19:10:34.545961Z"
    }
   },
   "outputs": [],
   "source": [
    "exclude = ['P','CG','NA','NE']\n",
    "exclude_ish = ['CG','NA','NE']"
   ]
  },
  {
   "cell_type": "code",
   "execution_count": null,
   "metadata": {
    "ExecuteTime": {
     "end_time": "2020-01-23T22:31:59.945140Z",
     "start_time": "2020-01-23T22:31:59.935061Z"
    }
   },
   "outputs": [],
   "source": [
    "amish_df_qc = amish_df[~(amish_df.SO_QIMG_OD.isin(exclude) |  amish_df.SO_QIMG_OS.isin(exclude))]\n",
    "amish_df_q = amish_df[~(amish_df.SO_QIMG_OD.isin(exclude_ish) |  amish_df.SO_QIMG_OS.isin(exclude_ish))]"
   ]
  },
  {
   "cell_type": "code",
   "execution_count": null,
   "metadata": {
    "ExecuteTime": {
     "end_time": "2020-01-29T19:21:58.578256Z",
     "start_time": "2020-01-29T19:21:58.543940Z"
    },
    "scrolled": true
   },
   "outputs": [],
   "source": [
    "ext_amish_df_qc = ext_amish_df[~(ext_amish_df.SO_QIMG_OD.isin(exclude_ish) |  ext_amish_df.SO_QIMG_OS.isin(exclude_ish))]\n",
    "ext_amish_df_qc"
   ]
  },
  {
   "cell_type": "markdown",
   "metadata": {},
   "source": [
    "## Save to disc "
   ]
  },
  {
   "cell_type": "code",
   "execution_count": null,
   "metadata": {
    "ExecuteTime": {
     "end_time": "2020-01-23T22:32:17.562328Z",
     "start_time": "2020-01-23T22:32:17.556630Z"
    }
   },
   "outputs": [],
   "source": [
    "amish_df.columns.to_list()"
   ]
  },
  {
   "cell_type": "code",
   "execution_count": null,
   "metadata": {
    "ExecuteTime": {
     "end_time": "2020-01-23T22:35:09.902590Z",
     "start_time": "2020-01-23T22:35:09.796243Z"
    }
   },
   "outputs": [],
   "source": [
    "AMISH_FNAME = 'AMISH_12192019_wHypoDrusen'\n",
    "amish_df_qc.to_csv(f'{AMISH_FNAME}.csv',index=False)\n",
    "amish_df_q.to_csv(f'{AMISH_FNAME}_wQ.csv',index=False)\n"
   ]
  },
  {
   "cell_type": "markdown",
   "metadata": {},
   "source": [
    "### ext_df "
   ]
  },
  {
   "cell_type": "code",
   "execution_count": null,
   "metadata": {
    "ExecuteTime": {
     "end_time": "2019-12-03T23:04:06.077621Z",
     "start_time": "2019-12-03T23:04:06.071508Z"
    },
    "deletable": false,
    "editable": false,
    "run_control": {
     "frozen": true
    }
   },
   "outputs": [],
   "source": [
    "ext_amish_df = ext_amish_df.to_csv('EXT_AMISH_SO_QC.csv',index=False)"
   ]
  },
  {
   "cell_type": "code",
   "execution_count": null,
   "metadata": {
    "ExecuteTime": {
     "end_time": "2020-01-29T19:23:55.512776Z",
     "start_time": "2020-01-29T19:23:55.497710Z"
    }
   },
   "outputs": [],
   "source": [
    "for f,ext_df in zip(ext_files,ext_dfs):\n",
    "    o_name = f'{f.stem}_ext_qc.csv'\n",
    "    ext_df.to_csv(o_name)"
   ]
  },
  {
   "cell_type": "markdown",
   "metadata": {},
   "source": [
    "# Review features "
   ]
  },
  {
   "cell_type": "code",
   "execution_count": null,
   "metadata": {
    "ExecuteTime": {
     "end_time": "2019-11-14T20:22:27.073370Z",
     "start_time": "2019-11-14T20:22:26.565585Z"
    },
    "scrolled": true
   },
   "outputs": [],
   "source": [
    "col,desc = zip(*[(k,col_desc[k]) for k in col_desc.keys()])\n",
    "col,vals = zip(*[(k,col_val_desc[k]) for k in col_val_desc.keys()])\n",
    "\n",
    "\n",
    "a = pd.DataFrame({'COL':col,'DESC':desc})\n",
    "b = pd.DataFrame({'COL':col,'VALS':vals})\n",
    "cols_df = pd.merge(a,b,on='COL',how='outer')\n",
    "\n",
    "fullDisplay(cols_df,width=600)"
   ]
  },
  {
   "cell_type": "code",
   "execution_count": null,
   "metadata": {
    "ExecuteTime": {
     "end_time": "2019-11-14T20:23:21.621930Z",
     "start_time": "2019-11-14T20:23:21.615283Z"
    }
   },
   "outputs": [],
   "source": [
    "amish_df[['CO_RPE_V5MM_OD','CO_RPE_V3MM_OS']].max()"
   ]
  },
  {
   "cell_type": "markdown",
   "metadata": {
    "heading_collapsed": true
   },
   "source": [
    "# SO"
   ]
  },
  {
   "cell_type": "code",
   "execution_count": null,
   "metadata": {
    "ExecuteTime": {
     "end_time": "2019-09-15T21:24:28.418047Z",
     "start_time": "2019-09-15T21:24:28.370277Z"
    },
    "hidden": true
   },
   "outputs": [],
   "source": [
    "so_col = [c for c in amish_df.columns.to_list() if 'SO' in c]\n",
    "fullDisplay(amish_df[so_col],max_rows=10)"
   ]
  },
  {
   "cell_type": "code",
   "execution_count": null,
   "metadata": {
    "ExecuteTime": {
     "end_time": "2019-08-28T17:26:54.366027Z",
     "start_time": "2019-08-28T17:26:54.359868Z"
    },
    "hidden": true
   },
   "outputs": [],
   "source": [
    "print(cols_df.COL.iloc[68:84])\n",
    "print(cols_df.COL.iloc[86:])\n",
    "\n"
   ]
  },
  {
   "cell_type": "code",
   "execution_count": null,
   "metadata": {
    "ExecuteTime": {
     "end_time": "2019-08-28T17:37:20.823166Z",
     "start_time": "2019-08-28T17:37:20.818407Z"
    },
    "hidden": true
   },
   "outputs": [],
   "source": [
    "[c for c,v in col_val_desc.items() if 'No (N)' in v]"
   ]
  },
  {
   "cell_type": "code",
   "execution_count": null,
   "metadata": {
    "ExecuteTime": {
     "end_time": "2019-09-15T21:25:37.560420Z",
     "start_time": "2019-09-15T21:25:37.554552Z"
    },
    "hidden": true
   },
   "outputs": [],
   "source": [
    "['SO_SUBRETINAL_OD',\n",
    " 'SO_SUBRETINAL_OS',\n",
    " 'SO_SRTSRHRM_OD',\n",
    " 'SO_SRTSRHRM_OS',\n",
    " 'SO_INTRA_RCS_OD',\n",
    " 'SO_INTRA_RCS_OS',\n",
    " 'SO_OUTER_RT_OD',\n",
    " 'SO_OUTER_RT_OS',\n",
    " 'SO_SR_DRUSEN_OD',\n",
    " 'SO_SR_DRUSEN_OS',\n",
    " 'SO_HRF_IRHRFOND_OD',\n",
    " 'SO_HRF_IRHRFOND_OS',\n",
    " 'SO_HRF_HRFOD_OD',\n",
    " 'SO_HRF_HRFOD_OS',\n",
    " 'SO_PED_DPED_OD',\n",
    " 'SO_PED_DPED_OS',\n",
    " 'SO_PED_HPED_OD',\n",
    " 'SO_PED_HPED_OS',\n",
    " 'SO_PED_SEROUS_OD',\n",
    " 'SO_PED_SEROUS_OS']\n"
   ]
  },
  {
   "cell_type": "code",
   "execution_count": null,
   "metadata": {
    "ExecuteTime": {
     "end_time": "2019-09-15T21:26:42.241333Z",
     "start_time": "2019-09-15T21:26:42.236756Z"
    },
    "hidden": true
   },
   "outputs": [],
   "source": [
    "len(so_col)//2"
   ]
  },
  {
   "cell_type": "code",
   "execution_count": null,
   "metadata": {
    "hidden": true
   },
   "outputs": [],
   "source": []
  }
 ],
 "metadata": {
  "kernelspec": {
   "display_name": "Python 3",
   "language": "python",
   "name": "python3"
  },
  "language_info": {
   "codemirror_mode": {
    "name": "ipython",
    "version": 3
   },
   "file_extension": ".py",
   "mimetype": "text/x-python",
   "name": "python",
   "nbconvert_exporter": "python",
   "pygments_lexer": "ipython3",
   "version": "3.8.5"
  },
  "toc": {
   "base_numbering": 1,
   "nav_menu": {},
   "number_sections": true,
   "sideBar": true,
   "skip_h1_title": false,
   "title_cell": "Table of Contents",
   "title_sidebar": "Contents",
   "toc_cell": false,
   "toc_position": {
    "height": "calc(100% - 180px)",
    "left": "10px",
    "top": "150px",
    "width": "190px"
   },
   "toc_section_display": true,
   "toc_window_display": true
  },
  "varInspector": {
   "cols": {
    "lenName": 16,
    "lenType": 16,
    "lenVar": 40
   },
   "kernels_config": {
    "python": {
     "delete_cmd_postfix": "",
     "delete_cmd_prefix": "del ",
     "library": "var_list.py",
     "varRefreshCmd": "print(var_dic_list())"
    },
    "r": {
     "delete_cmd_postfix": ") ",
     "delete_cmd_prefix": "rm(",
     "library": "var_list.r",
     "varRefreshCmd": "cat(var_dic_list()) "
    }
   },
   "types_to_exclude": [
    "module",
    "function",
    "builtin_function_or_method",
    "instance",
    "_Feature"
   ],
   "window_display": false
  }
 },
 "nbformat": 4,
 "nbformat_minor": 2
}
